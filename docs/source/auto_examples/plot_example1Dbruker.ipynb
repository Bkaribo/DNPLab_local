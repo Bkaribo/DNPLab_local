{
  "cells": [
    {
      "cell_type": "code",
      "execution_count": null,
      "metadata": {
        "collapsed": false
      },
      "outputs": [],
      "source": [
        "%matplotlib inline"
      ]
    },
    {
      "cell_type": "markdown",
      "metadata": {},
      "source": [
        "\n# 01 - Import 1D Bruker Spectrum\n\nThis first, basic example demonstrates how to import a 1D FID into DNPLab and process the FID to obtain the NMR spectrum.\n"
      ]
    },
    {
      "cell_type": "markdown",
      "metadata": {},
      "source": [
        "## Script Header\n\nEvery DNPLab script will have at least one header row to import the DNPLab package. Importing DNPLab will also import other scripts (e.g. numpy, matplotlib, etc.) for internal use. You can also add other packages to be imported.\n\n"
      ]
    },
    {
      "cell_type": "code",
      "execution_count": null,
      "metadata": {
        "collapsed": false
      },
      "outputs": [],
      "source": [
        "import sys\nimport numpy as np\nsys.path.append(\"..\")\nimport dnplab"
      ]
    },
    {
      "cell_type": "markdown",
      "metadata": {},
      "source": [
        "## Import Data\n\nOnce the DNPLab package is imported, the FID can be loaded.\n\n"
      ]
    },
    {
      "cell_type": "code",
      "execution_count": null,
      "metadata": {
        "collapsed": false
      },
      "outputs": [],
      "source": [
        "path = '../data/topspin/'\nfolder = 20\ndata = dnplab.dnpImport.topspin.import_topspin(path, folder)"
      ]
    },
    {
      "cell_type": "markdown",
      "metadata": {},
      "source": [
        "## Create Workspace\n\nA central concept of DNPLab is storing data in a workspace. In the following the workspace 'raw' and 'proc' is generated. The data object 'raw' contains the unprocessed spectral data. This is stored for reference, so the user can either choose to start working using the raw data or, once a few processing steps have been applied to the data, continue working on already processed data.\n\n"
      ]
    },
    {
      "cell_type": "code",
      "execution_count": null,
      "metadata": {
        "collapsed": false
      },
      "outputs": [],
      "source": [
        "# Create workspace\nws = dnplab.create_workspace()\nws.add(\"raw\", data)\nws.copy(\"raw\", \"proc\")"
      ]
    },
    {
      "cell_type": "markdown",
      "metadata": {},
      "source": [
        "## Process Data and Plot Spectrum\n\nFirst the FID is processed (remove DC offset, apply appodization and perform fourier transformation). Once the FID is process ti is plotted.\n\n"
      ]
    },
    {
      "cell_type": "code",
      "execution_count": null,
      "metadata": {
        "collapsed": false
      },
      "outputs": [],
      "source": [
        "dnplab.dnpNMR.remove_offset(ws, {})\ndnplab.dnpNMR.window(ws, linewidth = 10)\ndnplab.dnpNMR.fourier_transform(ws, zero_fill_factor = 2)\ndnplab.dnpNMR.autophase(ws, {})\n\ndnplab.dnpResults.figure()\ndnplab.dnpResults.plot(ws[\"proc\"].real)\ndnplab.dnpResults.xlim([50, -35])\ndnplab.dnpResults.plt.xlabel(\"Chemical Shift [ppm]\")\ndnplab.dnpResults.plt.ylabel(\"Signal Amplitude [a.u.]\")\ndnplab.dnpResults.show()"
      ]
    }
  ],
  "metadata": {
    "kernelspec": {
      "display_name": "Python 3",
      "language": "python",
      "name": "python3"
    },
    "language_info": {
      "codemirror_mode": {
        "name": "ipython",
        "version": 3
      },
      "file_extension": ".py",
      "mimetype": "text/x-python",
      "name": "python",
      "nbconvert_exporter": "python",
      "pygments_lexer": "ipython3",
      "version": "3.7.7"
    }
  },
  "nbformat": 4,
  "nbformat_minor": 0
}