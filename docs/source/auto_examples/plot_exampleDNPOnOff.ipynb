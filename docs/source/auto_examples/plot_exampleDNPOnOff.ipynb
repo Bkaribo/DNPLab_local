{
  "cells": [
    {
      "cell_type": "code",
      "execution_count": null,
      "metadata": {
        "collapsed": false
      },
      "outputs": [],
      "source": [
        "%matplotlib inline"
      ]
    },
    {
      "cell_type": "markdown",
      "metadata": {},
      "source": [
        "\n# \"This\" is my example-script\n\nThis example doesn't do much, it just makes a simple plot\n"
      ]
    },
    {
      "cell_type": "code",
      "execution_count": null,
      "metadata": {
        "collapsed": false
      },
      "outputs": [],
      "source": [
        "import numpy as np\nimport dnplab as dnp\n\n\n########## OFF Signal (P = 0 W) ##########\n\ndata = dnp.dnpImport.prospa.import_prospa('../data/prospa/10mM_TEMPO_Water/1Pulse_20200929/35/data.1d')\n\n# data = dnp.dnpImport.prospa.import_prospa('data/1Pulse_20200929/35/data.1d')\n\nws = dnp.create_workspace()\nws.add('rawOff',data)\nws.copy('rawOff','proc')\n\ndnp.dnpNMR.remove_offset(ws,{})\ndnp.dnpNMR.window(ws,{'linewidth' : 15})\ndnp.dnpNMR.fourier_transform(ws,{'zero_fill_factor' : 2})\n\nws.copy('proc','offSignal')\n\n\n########## ON Signal (P = 0 W) ##########\ndata = dnp.dnpImport.prospa.import_prospa('../data/prospa/10mM_TEMPO_Water/1Pulse_20200929/51/data.1d')\n\n# data = dnp.dnpImport.prospa.import_prospa('data/1Pulse_20200929/51/data.1d')\n\nws.add('rawOn',data)\nws.copy('rawOn')\n\ndnp.dnpNMR.remove_offset(ws,{})\ndnp.dnpNMR.window(ws,{'linewidth' : 15})\ndnp.dnpNMR.fourier_transform(ws,{'zero_fill_factor' : 2})\n\nws.copy('proc','onSignal')\n\n\n# ########## Plot Spectra ##########\ndnp.dnpResults.figure()\ndnp.dnpResults.plot(ws['offSignal'].real * 10 - 100, label = 'Off Signal x 10')\ndnp.dnpResults.plot(ws['onSignal'].real, label = 'On Signal')\ndnp.dnpResults.xlim([30,-30])\ndnp.dnpResults.plt.xlabel('Chemical Shift [ppm]')\ndnp.dnpResults.plt.ylabel('Signal Amplitude [a.u.]')\ndnp.dnpResults.plt.title('DNP On/Off Signal, 10 mM TEMPO in Water')\ndnp.dnpResults.plt.legend()\ndnp.dnpResults.plt.grid(True)\ndnp.dnpResults.show()"
      ]
    }
  ],
  "metadata": {
    "kernelspec": {
      "display_name": "Python 3",
      "language": "python",
      "name": "python3"
    },
    "language_info": {
      "codemirror_mode": {
        "name": "ipython",
        "version": 3
      },
      "file_extension": ".py",
      "mimetype": "text/x-python",
      "name": "python",
      "nbconvert_exporter": "python",
      "pygments_lexer": "ipython3",
      "version": "3.7.7"
    }
  },
  "nbformat": 4,
  "nbformat_minor": 0
}